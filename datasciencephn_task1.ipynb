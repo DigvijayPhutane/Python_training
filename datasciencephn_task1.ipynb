{
  "nbformat": 4,
  "nbformat_minor": 0,
  "metadata": {
    "colab": {
      "provenance": [],
      "authorship_tag": "ABX9TyOpiY2/ZgDT6hyokCZbsR4e",
      "include_colab_link": true
    },
    "kernelspec": {
      "name": "python3",
      "display_name": "Python 3"
    },
    "language_info": {
      "name": "python"
    }
  },
  "cells": [
    {
      "cell_type": "markdown",
      "metadata": {
        "id": "view-in-github",
        "colab_type": "text"
      },
      "source": [
        "<a href=\"https://colab.research.google.com/github/DigvijayPhutane/Python_training/blob/main/datasciencephn_task1.ipynb\" target=\"_parent\"><img src=\"https://colab.research.google.com/assets/colab-badge.svg\" alt=\"Open In Colab\"/></a>"
      ]
    },
    {
      "cell_type": "code",
      "source": [
        "import csv\n",
        "import pandas as pd\n",
        "\n",
        "# sample data for car_models.csv\n",
        "data = [['Honda', 'Civic', 'Petrol', 'Sedan', 4650],\n",
        "        ['Toyota', 'Corolla', 'Petrol', 'Sedan', 4700],\n",
        "        ['Ford', 'Mustang', 'Gas', 'Sports', 4780],\n",
        "        ['Chevrolet', 'Camaro', 'Gas', 'Sports', 4800]]\n",
        "\n",
        "# write sample data to car_models.csv\n",
        "with open('car_models.csv', 'w', newline='') as file:\n",
        "    writer = csv.writer(file)\n",
        "    writer.writerow(['Company Name', 'Model Name', 'Fuel Type', 'Body Style', 'Car Length'])\n",
        "    writer.writerows(data)\n",
        "\n",
        "# sample data for car_loan.xlsx\n",
        "data = {\n",
        "    'Company Name': ['Honda', 'Toyota', 'Ford', 'Chevrolet'],\n",
        "    'Model Name': ['Civic', 'Corolla', 'Mustang', 'Camaro'],\n",
        "    'On road pricing': [25000, 27000, 30000, 35000],\n",
        "    'Loan amount': [20000, 22000, 25000, 30000],\n",
        "    'Monthly EMI': [500, 550, 625, 750],\n",
        "    'Interest Rate': [5.5, 6, 6.5, 7],\n",
        "    'Monthly Principal': [400, 440, 500, 600],\n",
        "    'Monthly Interest': [100, 110, 125, 150]\n",
        "}\n",
        "\n",
        "# write sample data to car_loan.xlsx\n",
        "df = pd.DataFrame(data)\n",
        "df.to_excel('car_loan.xlsx', index=False)\n"
      ],
      "metadata": {
        "id": "Tk3w9YnBS8e1"
      },
      "execution_count": 12,
      "outputs": []
    },
    {
      "cell_type": "code",
      "source": [
        "# read the CSV file into a DataFrame\n",
        "car_models_df = pd.read_csv('car_models.csv')\n",
        "\n",
        "# read the Excel file into a DataFrame\n",
        "car_loan_df = pd.read_excel('car_loan.xlsx')\n",
        "\n",
        "print(car_models_df)\n",
        "\n",
        "print(car_loan_df)\n",
        "\n"
      ],
      "metadata": {
        "colab": {
          "base_uri": "https://localhost:8080/"
        },
        "id": "gyPSMrZcS8fw",
        "outputId": "2194e4eb-ad35-4f83-c434-e7347e5ccc82"
      },
      "execution_count": 23,
      "outputs": [
        {
          "output_type": "stream",
          "name": "stdout",
          "text": [
            "  Company Name Model Name Fuel Type Body Style  Car Length\n",
            "0        Honda      Civic    Petrol      Sedan        4650\n",
            "1       Toyota    Corolla    Petrol      Sedan        4700\n",
            "2         Ford    Mustang       Gas     Sports        4780\n",
            "3    Chevrolet     Camaro       Gas     Sports        4800\n",
            "  Company Name Model Name  On road pricing  Loan amount  Monthly EMI  \\\n",
            "0        Honda      Civic            25000        20000          500   \n",
            "1       Toyota    Corolla            27000        22000          550   \n",
            "2         Ford    Mustang            30000        25000          625   \n",
            "3    Chevrolet     Camaro            35000        30000          750   \n",
            "\n",
            "   Interest Rate  Monthly Principal  Monthly Interest  \n",
            "0            5.5                400               100  \n",
            "1            6.0                440               110  \n",
            "2            6.5                500               125  \n",
            "3            7.0                600               150  \n"
          ]
        }
      ]
    },
    {
      "cell_type": "code",
      "source": [
        "merged_df = pd.merge(car_models_df, car_loan_df, on='Model Name')\n",
        "print(merged_df)\n"
      ],
      "metadata": {
        "colab": {
          "base_uri": "https://localhost:8080/"
        },
        "id": "jR5wDBeAS8oJ",
        "outputId": "b1c1e6b8-e7ff-4c0f-b5bc-e3aa6e311443"
      },
      "execution_count": 28,
      "outputs": [
        {
          "output_type": "stream",
          "name": "stdout",
          "text": [
            "  Company Name_x Model Name Fuel Type Body Style  Car Length Company Name_y  \\\n",
            "0          Honda      Civic    Petrol      Sedan        4650          Honda   \n",
            "1         Toyota    Corolla    Petrol      Sedan        4700         Toyota   \n",
            "2           Ford    Mustang       Gas     Sports        4780           Ford   \n",
            "3      Chevrolet     Camaro       Gas     Sports        4800      Chevrolet   \n",
            "\n",
            "   On road pricing  Loan amount  Monthly EMI  Interest Rate  \\\n",
            "0            25000        20000          500            5.5   \n",
            "1            27000        22000          550            6.0   \n",
            "2            30000        25000          625            6.5   \n",
            "3            35000        30000          750            7.0   \n",
            "\n",
            "   Monthly Principal  Monthly Interest  \n",
            "0                400               100  \n",
            "1                440               110  \n",
            "2                500               125  \n",
            "3                600               150  \n"
          ]
        }
      ]
    },
    {
      "cell_type": "code",
      "source": [
        "merged_df.fillna(0, inplace=True)\n"
      ],
      "metadata": {
        "id": "wMIhAFexS80E"
      },
      "execution_count": 29,
      "outputs": []
    },
    {
      "cell_type": "code",
      "source": [
        "for index, row in merged_df.iterrows():\n",
        "    merged_df.at[index, 'On road pricing'] += merged_df.at[index, 'On road pricing'] * 0.18\n",
        "    print(merged_df)\n"
      ],
      "metadata": {
        "colab": {
          "base_uri": "https://localhost:8080/"
        },
        "id": "6ym4e4lUTnka",
        "outputId": "f19d726d-218b-498d-b424-dbd6d137e669"
      },
      "execution_count": 31,
      "outputs": [
        {
          "output_type": "stream",
          "name": "stdout",
          "text": [
            "  Company Name_x Model Name Fuel Type Body Style  Car Length Company Name_y  \\\n",
            "0          Honda      Civic    Petrol      Sedan        4650          Honda   \n",
            "1         Toyota    Corolla    Petrol      Sedan        4700         Toyota   \n",
            "2           Ford    Mustang       Gas     Sports        4780           Ford   \n",
            "3      Chevrolet     Camaro       Gas     Sports        4800      Chevrolet   \n",
            "\n",
            "   On road pricing  Loan amount  Monthly EMI  Interest Rate  \\\n",
            "0            34810        20000          500            5.5   \n",
            "1            31860        22000          550            6.0   \n",
            "2            35400        25000          625            6.5   \n",
            "3            41300        30000          750            7.0   \n",
            "\n",
            "   Monthly Principal  Monthly Interest  \n",
            "0                400               100  \n",
            "1                440               110  \n",
            "2                500               125  \n",
            "3                600               150  \n",
            "  Company Name_x Model Name Fuel Type Body Style  Car Length Company Name_y  \\\n",
            "0          Honda      Civic    Petrol      Sedan        4650          Honda   \n",
            "1         Toyota    Corolla    Petrol      Sedan        4700         Toyota   \n",
            "2           Ford    Mustang       Gas     Sports        4780           Ford   \n",
            "3      Chevrolet     Camaro       Gas     Sports        4800      Chevrolet   \n",
            "\n",
            "   On road pricing  Loan amount  Monthly EMI  Interest Rate  \\\n",
            "0          34810.0        20000          500            5.5   \n",
            "1          37594.8        22000          550            6.0   \n",
            "2          35400.0        25000          625            6.5   \n",
            "3          41300.0        30000          750            7.0   \n",
            "\n",
            "   Monthly Principal  Monthly Interest  \n",
            "0                400               100  \n",
            "1                440               110  \n",
            "2                500               125  \n",
            "3                600               150  \n",
            "  Company Name_x Model Name Fuel Type Body Style  Car Length Company Name_y  \\\n",
            "0          Honda      Civic    Petrol      Sedan        4650          Honda   \n",
            "1         Toyota    Corolla    Petrol      Sedan        4700         Toyota   \n",
            "2           Ford    Mustang       Gas     Sports        4780           Ford   \n",
            "3      Chevrolet     Camaro       Gas     Sports        4800      Chevrolet   \n",
            "\n",
            "   On road pricing  Loan amount  Monthly EMI  Interest Rate  \\\n",
            "0          34810.0        20000          500            5.5   \n",
            "1          37594.8        22000          550            6.0   \n",
            "2          41772.0        25000          625            6.5   \n",
            "3          41300.0        30000          750            7.0   \n",
            "\n",
            "   Monthly Principal  Monthly Interest  \n",
            "0                400               100  \n",
            "1                440               110  \n",
            "2                500               125  \n",
            "3                600               150  \n",
            "  Company Name_x Model Name Fuel Type Body Style  Car Length Company Name_y  \\\n",
            "0          Honda      Civic    Petrol      Sedan        4650          Honda   \n",
            "1         Toyota    Corolla    Petrol      Sedan        4700         Toyota   \n",
            "2           Ford    Mustang       Gas     Sports        4780           Ford   \n",
            "3      Chevrolet     Camaro       Gas     Sports        4800      Chevrolet   \n",
            "\n",
            "   On road pricing  Loan amount  Monthly EMI  Interest Rate  \\\n",
            "0          34810.0        20000          500            5.5   \n",
            "1          37594.8        22000          550            6.0   \n",
            "2          41772.0        25000          625            6.5   \n",
            "3          48734.0        30000          750            7.0   \n",
            "\n",
            "   Monthly Principal  Monthly Interest  \n",
            "0                400               100  \n",
            "1                440               110  \n",
            "2                500               125  \n",
            "3                600               150  \n"
          ]
        }
      ]
    }
  ]
}