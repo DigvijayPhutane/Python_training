{
  "nbformat": 4,
  "nbformat_minor": 0,
  "metadata": {
    "colab": {
      "name": "python.ipynb",
      "provenance": [],
      "collapsed_sections": [],
      "include_colab_link": true
    },
    "kernelspec": {
      "name": "python3",
      "display_name": "Python 3"
    },
    "language_info": {
      "name": "python"
    }
  },
  "cells": [
    {
      "cell_type": "markdown",
      "metadata": {
        "id": "view-in-github",
        "colab_type": "text"
      },
      "source": [
        "<a href=\"https://colab.research.google.com/github/DigvijayPhutane/Python_training/blob/main/python.ipynb\" target=\"_parent\"><img src=\"https://colab.research.google.com/assets/colab-badge.svg\" alt=\"Open In Colab\"/></a>"
      ]
    },
    {
      "cell_type": "code",
      "execution_count": null,
      "metadata": {
        "id": "l-1eGIvAN4Z9"
      },
      "outputs": [],
      "source": [
        "print(\"hello world\")"
      ]
    },
    {
      "cell_type": "code",
      "source": [
        "a= 3 \n",
        "b = 4 \n",
        "sum = a+b\n",
        "print(sum)"
      ],
      "metadata": {
        "id": "lRMuA4s7OZgP"
      },
      "execution_count": null,
      "outputs": []
    },
    {
      "cell_type": "code",
      "source": [
        "items = 10 \n",
        "price = 2 \n",
        "total_price=items*price\n",
        "print(total_price, items, price)"
      ],
      "metadata": {
        "id": "djnPM9UiOrzZ"
      },
      "execution_count": null,
      "outputs": []
    },
    {
      "cell_type": "markdown",
      "source": [
        "int , float , string"
      ],
      "metadata": {
        "id": "L-voxR-SQW4C"
      }
    },
    {
      "cell_type": "code",
      "source": [
        "x= 10\n",
        "y= \"10\"\n",
        "z=10.2\n",
        "#here the \"\" is used for string\n",
        "sum1 = x+x\n",
        "sum2= y+y\n",
        "print(sum1, sum2)\n",
        "print(type(x) ,type(y),type(z))"
      ],
      "metadata": {
        "id": "MznA3TStOsR1"
      },
      "execution_count": null,
      "outputs": []
    },
    {
      "cell_type": "code",
      "source": [
        "mood = \"great\"\n",
        "strength = 10.2\n",
        "rank = 10"
      ],
      "metadata": {
        "id": "jyGg7an4OsTS"
      },
      "execution_count": null,
      "outputs": []
    },
    {
      "cell_type": "markdown",
      "source": [
        "list types in python - list always store in []\n",
        "\n",
        "\n"
      ],
      "metadata": {
        "id": "TCDU3QHAT5No"
      }
    },
    {
      "cell_type": "code",
      "source": [
        "std_grade = [2.2,9.2,8.1,\"hello\",[2,24,30]]\n",
        "print(std_grade)"
      ],
      "metadata": {
        "id": "Jrc0X-ksOsV2"
      },
      "execution_count": null,
      "outputs": []
    },
    {
      "cell_type": "code",
      "source": [
        "std_grade = [2.2,9.2,8.1,\"hello\",[2,24,30]]\n",
        "print(std_grade*3)\n",
        "#same list 3 times"
      ],
      "metadata": {
        "id": "-wXi5HMSOsYc"
      },
      "execution_count": null,
      "outputs": []
    },
    {
      "cell_type": "code",
      "source": [
        "std_grade = list(range(0,11))\n",
        "print(std_grade)\n",
        "#range is use to store all the numbers from mentioned range"
      ],
      "metadata": {
        "id": "4kaYqmsjOsbk"
      },
      "execution_count": null,
      "outputs": []
    },
    {
      "cell_type": "markdown",
      "source": [
        ""
      ],
      "metadata": {
        "id": "N-4K_zBKggLg"
      }
    },
    {
      "cell_type": "markdown",
      "source": [
        "data type attributes "
      ],
      "metadata": {
        "id": "lZPIIgu9ggOW"
      }
    },
    {
      "cell_type": "code",
      "source": [
        "\"helloworld\".upper()"
      ],
      "metadata": {
        "id": "SBi0qzzIhKEl"
      },
      "execution_count": null,
      "outputs": []
    },
    {
      "cell_type": "code",
      "source": [
        "myword = \"hello\"\n",
        "myword.title()"
      ],
      "metadata": {
        "id": "FRaLeyAUhKGJ"
      },
      "execution_count": null,
      "outputs": []
    },
    {
      "cell_type": "code",
      "source": [
        "std_garde1 = [1,2,3,4,5,6,7,8,9]\n",
        "dir(std_grade1)"
      ],
      "metadata": {
        "id": "Djv2SlT9OseW"
      },
      "execution_count": null,
      "outputs": []
    },
    {
      "cell_type": "code",
      "source": [
        "dir(str)"
      ],
      "metadata": {
        "id": "xUTAHiPlOshD"
      },
      "execution_count": null,
      "outputs": []
    },
    {
      "cell_type": "markdown",
      "source": [
        "Q. Calculate Maximum (E)\n",
        "Complete line 2 of the code so that it prints out the maximum value of student_grades. In other words, your duty is to find out the appropriate function or method that returns the maximum value of a list and store its output in max_value.\n",
        "\n",
        "Tip: You can use the introspective dir() function on your local IDE to find out the function/method that returns the maximum value."
      ],
      "metadata": {
        "id": "80d-vysgjtvs"
      }
    },
    {
      "cell_type": "code",
      "source": [
        "#sol- \n",
        "student_grades=[2,5,8,9]\n",
        "max_value = max(student_grades)\n",
        "print(max_value)"
      ],
      "metadata": {
        "id": "ADx-fhxaOsj_"
      },
      "execution_count": null,
      "outputs": []
    },
    {
      "cell_type": "markdown",
      "source": [
        "Q. Count Values (E)\n",
        "Below you can see a student_grades list. Your task is to use Python to count how many items with a value of 10.0 are in the student_grades list. Once you find the proper list method that counts items, then print out its output using a print() function."
      ],
      "metadata": {
        "id": "BzeJmcDqXQe7"
      }
    },
    {
      "cell_type": "code",
      "source": [
        "student_grades = [9.1, 8.8, 10.0, 7.7, 6.8, 8.0, 10.0, 8.1, 10.0, 9.9]\n",
        "print(student_grades.count(10.0))"
      ],
      "metadata": {
        "colab": {
          "base_uri": "https://localhost:8080/"
        },
        "id": "wtuDLi84Osmx",
        "outputId": "4715facc-ac7d-49a9-ebbe-f8c2600a440d"
      },
      "execution_count": null,
      "outputs": [
        {
          "output_type": "stream",
          "name": "stdout",
          "text": [
            "3\n"
          ]
        }
      ]
    },
    {
      "cell_type": "code",
      "source": [
        ""
      ],
      "metadata": {
        "id": "A5yKMH7AOspe"
      },
      "execution_count": null,
      "outputs": []
    },
    {
      "cell_type": "markdown",
      "source": [
        "Q. Modify String (E)\n",
        "Like the previous exercise, find the proper function or method that converts the string in username into lowercase letters and prints out the output."
      ],
      "metadata": {
        "id": "3bIgxnhqXuWX"
      }
    },
    {
      "cell_type": "code",
      "source": [
        "username = \"Python3\"\n",
        "print(username.lower())"
      ],
      "metadata": {
        "id": "Cje9HkQeOssM"
      },
      "execution_count": null,
      "outputs": []
    },
    {
      "cell_type": "code",
      "source": [
        ""
      ],
      "metadata": {
        "id": "08afOgmXOsu4"
      },
      "execution_count": null,
      "outputs": []
    },
    {
      "cell_type": "markdown",
      "source": [
        "Dictionary type"
      ],
      "metadata": {
        "id": "JsPPm4oPZM63"
      }
    },
    {
      "cell_type": "code",
      "source": [
        "#dictionary uses {} brackets \n",
        "\n",
        "std_grades = {\"science\":9.9, \"maths\":5.6, \"history\":6.6}\n",
        "mysum = sum(std_grades.values())\n",
        "length = len(std_grades)\n",
        "avg = mysum / length\n",
        "print(\"avg of marks is \",avg)\n",
        "print(std_grades.values())\n"
      ],
      "metadata": {
        "id": "a-_0fE8hOsx7"
      },
      "execution_count": null,
      "outputs": []
    },
    {
      "cell_type": "markdown",
      "source": [
        "Q. assign  a dictionary to variable day_temperature . the dic should contain three keys , 'morning' 'noon 'evening' each key should have a float value ."
      ],
      "metadata": {
        "id": "QDYVcy96cMhS"
      }
    },
    {
      "cell_type": "code",
      "source": [
        "day_temperatures = {'morning':5.5, 'noon':12.30, 'evening':5.23}\n"
      ],
      "metadata": {
        "id": "q-2K3f8qZXWw"
      },
      "execution_count": null,
      "outputs": []
    },
    {
      "cell_type": "code",
      "source": [
        ""
      ],
      "metadata": {
        "id": "YtlHM9SqZXaF"
      },
      "execution_count": null,
      "outputs": []
    },
    {
      "cell_type": "markdown",
      "source": [
        "Q append first item of weekend to workdays "
      ],
      "metadata": {
        "id": "gqa8dT-WF2Dp"
      }
    },
    {
      "cell_type": "code",
      "source": [
        "workdays=[\"Mon\",\"Tues\",\"Wed\",\"Thir\",\"Fri\"]\n",
        "weekend=[\"Sat\",\"sun\"]\n",
        "print(weekend)\n",
        "print(workdays)\n",
        "workdays.append(weekend[0])\n",
        "print(workdays)\n",
        "print(workdays[1:4]) \n",
        "\n",
        "#to access the particular portion of list\n",
        "print(workdays[0:2]) #to access first two items \n",
        "print(workdays[-1]) #negative indexes \n"
      ],
      "metadata": {
        "id": "bFWBj7gOZXdx",
        "colab": {
          "base_uri": "https://localhost:8080/"
        },
        "outputId": "b5bbc421-c2c3-4182-ba9c-aafbc5d58353"
      },
      "execution_count": null,
      "outputs": [
        {
          "output_type": "stream",
          "name": "stdout",
          "text": [
            "['Sat', 'sun']\n",
            "['Mon', 'Tues', 'Wed', 'Thir', 'Fri']\n",
            "['Mon', 'Tues', 'Wed', 'Thir', 'Fri', 'Sat']\n",
            "['Tues', 'Wed', 'Thir']\n",
            "['Mon', 'Tues']\n",
            "Sat\n"
          ]
        }
      ]
    },
    {
      "cell_type": "markdown",
      "source": [
        "dictionary \n"
      ],
      "metadata": {
        "id": "2w9OKVGELKQo"
      }
    },
    {
      "cell_type": "code",
      "source": [
        "ritesh = {\"good\":1000,\"pagal\":20000}\n",
        "print(ritesh)\n",
        "ritesh[\"good\"] #to access the key values of dictionary \n"
      ],
      "metadata": {
        "id": "SmdTV0gOZXgG",
        "colab": {
          "base_uri": "https://localhost:8080/"
        },
        "outputId": "9efe0110-326f-4996-9a88-2bfe5443c22f"
      },
      "execution_count": null,
      "outputs": [
        {
          "output_type": "stream",
          "name": "stdout",
          "text": [
            "{'good': 1000, 'pagal': 20000}\n"
          ]
        },
        {
          "output_type": "execute_result",
          "data": {
            "text/plain": [
              "1000"
            ]
          },
          "metadata": {},
          "execution_count": 13
        }
      ]
    },
    {
      "cell_type": "markdown",
      "source": [
        "conversion between datatypes\n",
        "Tip: Converting Between Datatypes\n",
        "Sometimes you might need to convert between different data types in Python for one reason or another. That is very easy to do:\n",
        "\n",
        "From tuple to list:\n",
        "\n",
        ">>> cool_tuple = (1, 2, 3)\n",
        ">>> cool_list = list(cool_tuple)\n",
        ">>> cool_list\n",
        "[1, 2, 3]\n",
        "\n",
        "\n",
        "From list to tuple:\n",
        "\n",
        ">>> cool_list = [1, 2, 3]\n",
        ">>> cool_tuple = tuple(cool_list)\n",
        ">>> cool_tuple\n",
        "(1, 2, 3)\n",
        "\n",
        "\n",
        "From string to list:\n",
        "\n",
        ">>> cool_string = \"Hello\"\n",
        ">>> cool_list = list(cool_string)\n",
        ">>> cool_list\n",
        "['H', 'e', 'l', 'l', 'o']\n",
        "\n",
        "\n",
        "From list to string:\n",
        "\n",
        ">>> cool_list = ['H', 'e', 'l', 'l', 'o']\n",
        ">>> cool_string = str.join(\"\", cool_list)\n",
        ">>> cool_string\n",
        "'Hello'\n",
        "As can be seen above, converting a list into a string is more complex. Here str() is not sufficient. We need str.join(). Try running the code above again, but this time using str.join(\"---\", cool_list) in the second line. You will understand how str.join() works."
      ],
      "metadata": {
        "id": "Z2SosGnNrlfk"
      }
    },
    {
      "cell_type": "markdown",
      "source": [
        "cheatsheet \n",
        "Cheatsheet: Operations with Data Types\n",
        "In this section, you learned that:\n",
        "\n",
        "\n",
        "\n",
        "Lists, strings, and tuples have a positive index system:\n",
        "\n",
        "[\"Mon\", \"Tue\", \"Wed\", \"Thu\", \"Fri\", \"Sat\", \"Sun\"]\n",
        "   0      1      2      3      4      5      6\n",
        "\n",
        "\n",
        "And they have a negative index system as well:\n",
        "\n",
        "[\"Mon\", \"Tue\", \"Wed\", \"Thu\", \"Fri\", \"Sat\", \"Sun\"]\n",
        "  -7     -6     -5     -4     -3     -2     -1\n",
        "\n",
        "\n",
        "In a list, the 2nd, 3rd, and 4th items can be accessed with:\n",
        "\n",
        "days = [\"Mon\", \"Tue\", \"Wed\", \"Thu\", \"Fri\", \"Sat\", \"Sun\"]\n",
        "days[1:4]\n",
        "Output: ['Tue', 'Wed', 'Thu']\n",
        "\n",
        "\n",
        "First three items of a list:\n",
        "\n",
        "days = [\"Mon\", \"Tue\", \"Wed\", \"Thu\", \"Fri\", \"Sat\", \"Sun\"]\n",
        "days[:3]\n",
        "Output:['Mon', 'Tue', 'Wed'] \n",
        "\n",
        "\n",
        "Last three items of a list:\n",
        "\n",
        "days = [\"Mon\", \"Tue\", \"Wed\", \"Thu\", \"Fri\", \"Sat\", \"Sun\"]\n",
        "days[-3:]\n",
        "Output: ['Fri', 'Sat', 'Sun']\n",
        "Everything but the last:\n",
        "\n",
        "days = [\"Mon\", \"Tue\", \"Wed\", \"Thu\", \"Fri\", \"Sat\", \"Sun\"]\n",
        "days[:-1] \n",
        "Output: ['Mon', 'Tue', 'Wed', 'Thu', 'Fri', 'Sat'] \n",
        "Everything but the last two:\n",
        "\n",
        "days = [\"Mon\", \"Tue\", \"Wed\", \"Thu\", \"Fri\", \"Sat\", \"Sun\"]\n",
        "days[:-2] \n",
        "Output: ['Mon', 'Tue', 'Wed', 'Thu', 'Fri'] \n",
        "\n",
        "\n",
        "A dictionary value can be accessed using its corresponding dictionary key:\n",
        "\n",
        "phone_numbers = {\"John\":\"+37682929928\",\"Marry\":\"+423998200919\"}\n",
        "phone_numbers[\"Marry\"]\n",
        "Output: '+423998200919'"
      ],
      "metadata": {
        "id": "Pdx0-egatb8d"
      }
    },
    {
      "cell_type": "code",
      "source": [
        ""
      ],
      "metadata": {
        "id": "x1LFRGCpZXkS"
      },
      "execution_count": null,
      "outputs": []
    },
    {
      "cell_type": "code",
      "source": [
        ""
      ],
      "metadata": {
        "id": "17D2ExLhZXmn"
      },
      "execution_count": null,
      "outputs": []
    },
    {
      "cell_type": "code",
      "source": [
        ""
      ],
      "metadata": {
        "id": "JLiqSLT2ZXrd"
      },
      "execution_count": null,
      "outputs": []
    },
    {
      "cell_type": "code",
      "source": [
        ""
      ],
      "metadata": {
        "id": "OQ2GHpAlZXuI"
      },
      "execution_count": null,
      "outputs": []
    },
    {
      "cell_type": "code",
      "source": [
        ""
      ],
      "metadata": {
        "id": "i3kEIgk-ZX1l"
      },
      "execution_count": null,
      "outputs": []
    },
    {
      "cell_type": "code",
      "source": [
        ""
      ],
      "metadata": {
        "id": "VxzIPNZxZX4k"
      },
      "execution_count": null,
      "outputs": []
    },
    {
      "cell_type": "code",
      "source": [
        ""
      ],
      "metadata": {
        "id": "hqa_XFshZX73"
      },
      "execution_count": null,
      "outputs": []
    },
    {
      "cell_type": "code",
      "source": [
        ""
      ],
      "metadata": {
        "id": "5OUyxkvTZX-j"
      },
      "execution_count": null,
      "outputs": []
    },
    {
      "cell_type": "code",
      "source": [
        ""
      ],
      "metadata": {
        "id": "CiuOX24SZYC4"
      },
      "execution_count": null,
      "outputs": []
    },
    {
      "cell_type": "code",
      "source": [
        ""
      ],
      "metadata": {
        "id": "MEFXXPvsOs00"
      },
      "execution_count": null,
      "outputs": []
    },
    {
      "cell_type": "code",
      "source": [
        ""
      ],
      "metadata": {
        "id": "hJJ86iJNOs3h"
      },
      "execution_count": null,
      "outputs": []
    },
    {
      "cell_type": "code",
      "source": [
        ""
      ],
      "metadata": {
        "id": "9MI7VcpKOs6R"
      },
      "execution_count": null,
      "outputs": []
    },
    {
      "cell_type": "code",
      "source": [
        ""
      ],
      "metadata": {
        "id": "XeyJa5pTOs9I"
      },
      "execution_count": null,
      "outputs": []
    },
    {
      "cell_type": "code",
      "source": [
        ""
      ],
      "metadata": {
        "id": "Ie9qWhpqOs_q"
      },
      "execution_count": null,
      "outputs": []
    }
  ]
}