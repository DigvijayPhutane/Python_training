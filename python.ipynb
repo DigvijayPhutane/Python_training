{
  "nbformat": 4,
  "nbformat_minor": 0,
  "metadata": {
    "colab": {
      "name": "python.ipynb",
      "provenance": [],
      "collapsed_sections": [],
      "authorship_tag": "ABX9TyMOG5QG9ya7ASr53KpEC4NC",
      "include_colab_link": true
    },
    "kernelspec": {
      "name": "python3",
      "display_name": "Python 3"
    },
    "language_info": {
      "name": "python"
    }
  },
  "cells": [
    {
      "cell_type": "markdown",
      "metadata": {
        "id": "view-in-github",
        "colab_type": "text"
      },
      "source": [
        "<a href=\"https://colab.research.google.com/github/DigvijayPhutane/Python_training/blob/main/python.ipynb\" target=\"_parent\"><img src=\"https://colab.research.google.com/assets/colab-badge.svg\" alt=\"Open In Colab\"/></a>"
      ]
    },
    {
      "cell_type": "code",
      "execution_count": null,
      "metadata": {
        "id": "l-1eGIvAN4Z9"
      },
      "outputs": [],
      "source": [
        "print(\"hello world\")"
      ]
    },
    {
      "cell_type": "code",
      "source": [
        "a= 3 \n",
        "b = 4 \n",
        "sum = a+b\n",
        "print(sum)"
      ],
      "metadata": {
        "id": "lRMuA4s7OZgP"
      },
      "execution_count": null,
      "outputs": []
    },
    {
      "cell_type": "code",
      "source": [
        "items = 10 \n",
        "price = 2 \n",
        "total_price=items*price\n",
        "print(total_price, items, price)"
      ],
      "metadata": {
        "id": "djnPM9UiOrzZ"
      },
      "execution_count": null,
      "outputs": []
    },
    {
      "cell_type": "markdown",
      "source": [
        "int , float , string"
      ],
      "metadata": {
        "id": "L-voxR-SQW4C"
      }
    },
    {
      "cell_type": "code",
      "source": [
        "x= 10\n",
        "y= \"10\"\n",
        "z=10.2\n",
        "#here the \"\" is used for string\n",
        "sum1 = x+x\n",
        "sum2= y+y\n",
        "print(sum1, sum2)\n",
        "print(type(x) ,type(y),type(z))"
      ],
      "metadata": {
        "id": "MznA3TStOsR1"
      },
      "execution_count": null,
      "outputs": []
    },
    {
      "cell_type": "code",
      "source": [
        "mood = \"great\"\n",
        "strength = 10.2\n",
        "rank = 10"
      ],
      "metadata": {
        "id": "jyGg7an4OsTS"
      },
      "execution_count": 11,
      "outputs": []
    },
    {
      "cell_type": "markdown",
      "source": [
        "list types in python - list always store in []\n",
        "\n",
        "\n"
      ],
      "metadata": {
        "id": "TCDU3QHAT5No"
      }
    },
    {
      "cell_type": "code",
      "source": [
        "std_grade = [2.2,9.2,8.1,\"hello\",[2,24,30]]\n",
        "print(std_grade)"
      ],
      "metadata": {
        "id": "Jrc0X-ksOsV2"
      },
      "execution_count": null,
      "outputs": []
    },
    {
      "cell_type": "code",
      "source": [
        "std_grade = [2.2,9.2,8.1,\"hello\",[2,24,30]]\n",
        "print(std_grade*3)\n",
        "#same list 3 times"
      ],
      "metadata": {
        "id": "-wXi5HMSOsYc"
      },
      "execution_count": null,
      "outputs": []
    },
    {
      "cell_type": "code",
      "source": [
        "std_grade = list(range(0,11))\n",
        "print(std_grade)\n",
        "#range is use to store all the numbers from mentioned range"
      ],
      "metadata": {
        "id": "4kaYqmsjOsbk"
      },
      "execution_count": null,
      "outputs": []
    },
    {
      "cell_type": "markdown",
      "source": [
        ""
      ],
      "metadata": {
        "id": "N-4K_zBKggLg"
      }
    },
    {
      "cell_type": "markdown",
      "source": [
        "data type attributes "
      ],
      "metadata": {
        "id": "lZPIIgu9ggOW"
      }
    },
    {
      "cell_type": "code",
      "source": [
        "\"helloworld\".upper()"
      ],
      "metadata": {
        "id": "SBi0qzzIhKEl"
      },
      "execution_count": null,
      "outputs": []
    },
    {
      "cell_type": "code",
      "source": [
        "myword = \"hello\"\n",
        "myword.title()"
      ],
      "metadata": {
        "id": "FRaLeyAUhKGJ"
      },
      "execution_count": null,
      "outputs": []
    },
    {
      "cell_type": "code",
      "source": [
        "std_garde1 = [1,2,3,4,5,6,7,8,9]\n",
        "dir(std_grade1)"
      ],
      "metadata": {
        "id": "Djv2SlT9OseW"
      },
      "execution_count": null,
      "outputs": []
    },
    {
      "cell_type": "code",
      "source": [
        "dir(str)"
      ],
      "metadata": {
        "id": "xUTAHiPlOshD"
      },
      "execution_count": null,
      "outputs": []
    },
    {
      "cell_type": "markdown",
      "source": [
        "Q. Calculate Maximum (E)\n",
        "Complete line 2 of the code so that it prints out the maximum value of student_grades. In other words, your duty is to find out the appropriate function or method that returns the maximum value of a list and store its output in max_value.\n",
        "\n",
        "Tip: You can use the introspective dir() function on your local IDE to find out the function/method that returns the maximum value."
      ],
      "metadata": {
        "id": "80d-vysgjtvs"
      }
    },
    {
      "cell_type": "code",
      "source": [
        "#sol- \n",
        "student_grades=[2,5,8,9]\n",
        "max_value = max(student_grades)\n",
        "print(max_value)"
      ],
      "metadata": {
        "id": "ADx-fhxaOsj_"
      },
      "execution_count": null,
      "outputs": []
    },
    {
      "cell_type": "markdown",
      "source": [
        "Q. Count Values (E)\n",
        "Below you can see a student_grades list. Your task is to use Python to count how many items with a value of 10.0 are in the student_grades list. Once you find the proper list method that counts items, then print out its output using a print() function."
      ],
      "metadata": {
        "id": "BzeJmcDqXQe7"
      }
    },
    {
      "cell_type": "code",
      "source": [
        "student_grades = [9.1, 8.8, 10.0, 7.7, 6.8, 8.0, 10.0, 8.1, 10.0, 9.9]\n",
        "print(student_grades.count(10.0))"
      ],
      "metadata": {
        "colab": {
          "base_uri": "https://localhost:8080/"
        },
        "id": "wtuDLi84Osmx",
        "outputId": "4715facc-ac7d-49a9-ebbe-f8c2600a440d"
      },
      "execution_count": 1,
      "outputs": [
        {
          "output_type": "stream",
          "name": "stdout",
          "text": [
            "3\n"
          ]
        }
      ]
    },
    {
      "cell_type": "code",
      "source": [
        ""
      ],
      "metadata": {
        "id": "A5yKMH7AOspe"
      },
      "execution_count": null,
      "outputs": []
    },
    {
      "cell_type": "markdown",
      "source": [
        "Q. Modify String (E)\n",
        "Like the previous exercise, find the proper function or method that converts the string in username into lowercase letters and prints out the output."
      ],
      "metadata": {
        "id": "3bIgxnhqXuWX"
      }
    },
    {
      "cell_type": "code",
      "source": [
        "username = \"Python3\"\n",
        "print(username.lower())"
      ],
      "metadata": {
        "id": "Cje9HkQeOssM"
      },
      "execution_count": null,
      "outputs": []
    },
    {
      "cell_type": "code",
      "source": [
        ""
      ],
      "metadata": {
        "id": "08afOgmXOsu4"
      },
      "execution_count": null,
      "outputs": []
    },
    {
      "cell_type": "markdown",
      "source": [
        "Dictionary type"
      ],
      "metadata": {
        "id": "JsPPm4oPZM63"
      }
    },
    {
      "cell_type": "code",
      "source": [
        "#dictionary uses {} brackets \n",
        "\n",
        "std_grades = {\"science\":9.9, \"maths\":5.6, \"history\":6.6}\n",
        "mysum = sum(std_grades.values())\n",
        "length = len(std_grades)\n",
        "avg = mysum / length\n",
        "print(\"avg of marks is \",avg)\n",
        "print(std_grades.values())\n"
      ],
      "metadata": {
        "id": "a-_0fE8hOsx7"
      },
      "execution_count": null,
      "outputs": []
    },
    {
      "cell_type": "markdown",
      "source": [
        "Q. assign  a dictionary to variable day_temperature . the dic should contain three keys , 'morning' 'noon 'evening' each key should have a float value ."
      ],
      "metadata": {
        "id": "QDYVcy96cMhS"
      }
    },
    {
      "cell_type": "code",
      "source": [
        "day_temperatures = {'morning':5.5, 'noon':12.30, 'evening':5.23}\n"
      ],
      "metadata": {
        "id": "q-2K3f8qZXWw"
      },
      "execution_count": null,
      "outputs": []
    },
    {
      "cell_type": "code",
      "source": [
        ""
      ],
      "metadata": {
        "id": "YtlHM9SqZXaF"
      },
      "execution_count": null,
      "outputs": []
    },
    {
      "cell_type": "code",
      "source": [
        ""
      ],
      "metadata": {
        "id": "bFWBj7gOZXdx"
      },
      "execution_count": null,
      "outputs": []
    },
    {
      "cell_type": "code",
      "source": [
        ""
      ],
      "metadata": {
        "id": "SmdTV0gOZXgG"
      },
      "execution_count": null,
      "outputs": []
    },
    {
      "cell_type": "code",
      "source": [
        ""
      ],
      "metadata": {
        "id": "x1LFRGCpZXkS"
      },
      "execution_count": null,
      "outputs": []
    },
    {
      "cell_type": "code",
      "source": [
        ""
      ],
      "metadata": {
        "id": "17D2ExLhZXmn"
      },
      "execution_count": null,
      "outputs": []
    },
    {
      "cell_type": "code",
      "source": [
        ""
      ],
      "metadata": {
        "id": "JLiqSLT2ZXrd"
      },
      "execution_count": null,
      "outputs": []
    },
    {
      "cell_type": "code",
      "source": [
        ""
      ],
      "metadata": {
        "id": "OQ2GHpAlZXuI"
      },
      "execution_count": null,
      "outputs": []
    },
    {
      "cell_type": "code",
      "source": [
        ""
      ],
      "metadata": {
        "id": "i3kEIgk-ZX1l"
      },
      "execution_count": null,
      "outputs": []
    },
    {
      "cell_type": "code",
      "source": [
        ""
      ],
      "metadata": {
        "id": "VxzIPNZxZX4k"
      },
      "execution_count": null,
      "outputs": []
    },
    {
      "cell_type": "code",
      "source": [
        ""
      ],
      "metadata": {
        "id": "hqa_XFshZX73"
      },
      "execution_count": null,
      "outputs": []
    },
    {
      "cell_type": "code",
      "source": [
        ""
      ],
      "metadata": {
        "id": "5OUyxkvTZX-j"
      },
      "execution_count": null,
      "outputs": []
    },
    {
      "cell_type": "code",
      "source": [
        ""
      ],
      "metadata": {
        "id": "CiuOX24SZYC4"
      },
      "execution_count": null,
      "outputs": []
    },
    {
      "cell_type": "code",
      "source": [
        ""
      ],
      "metadata": {
        "id": "MEFXXPvsOs00"
      },
      "execution_count": null,
      "outputs": []
    },
    {
      "cell_type": "code",
      "source": [
        ""
      ],
      "metadata": {
        "id": "hJJ86iJNOs3h"
      },
      "execution_count": null,
      "outputs": []
    },
    {
      "cell_type": "code",
      "source": [
        ""
      ],
      "metadata": {
        "id": "9MI7VcpKOs6R"
      },
      "execution_count": null,
      "outputs": []
    },
    {
      "cell_type": "code",
      "source": [
        ""
      ],
      "metadata": {
        "id": "XeyJa5pTOs9I"
      },
      "execution_count": null,
      "outputs": []
    },
    {
      "cell_type": "code",
      "source": [
        ""
      ],
      "metadata": {
        "id": "Ie9qWhpqOs_q"
      },
      "execution_count": null,
      "outputs": []
    }
  ]
}